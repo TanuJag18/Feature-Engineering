{
 "cells": [
  {
   "cell_type": "code",
   "execution_count": null,
   "id": "c3eef064-bf7f-4647-a1cc-8c885a454941",
   "metadata": {},
   "outputs": [],
   "source": [
    "#Q1. What is a parameter?\n",
    "#Ans: In Machine Learning, parameters are the internal variables of a model that are learned from the training data, defining its skill for prediction. These learned values are crucial for the model to make predictions on new, unseen data."
   ]
  },
  {
   "cell_type": "code",
   "execution_count": null,
   "id": "a51dd59c-c09b-4ff6-b441-0450f5d89e1d",
   "metadata": {},
   "outputs": [],
   "source": [
    "#Q2. What is correlation? What does negative correlation mean?\n",
    "#Ans: Correlation measures the strength and direction of a linear relationship between two variables.  Negative correlation signifies an inverse relationship: as one variable increases, the other tends to decrease. 2 "
   ]
  },
  {
   "cell_type": "code",
   "execution_count": null,
   "id": "29bbc908-af8c-40a2-82e6-4d84ed82f3c6",
   "metadata": {},
   "outputs": [],
   "source": [
    "#Q3. Define Machine Learning. What are the main components in Machine Learning?\n",
    "#Ans: Machine Learning (ML) enables computers to learn from data without explicit programming, improving automatically through experience. The main components are data, a model, and an algorithm to learn the model from the data."
   ]
  },
  {
   "cell_type": "code",
   "execution_count": null,
   "id": "887ab83e-668a-47ba-874f-c09ad54afe07",
   "metadata": {},
   "outputs": [],
   "source": [
    "#Q4.How does loss value help in determining whether the model is good or not?\n",
    "#Ans: The loss value quantifies how poorly the model's predictions deviate from the actual values in the training data; lower loss generally indicates better performance on that data"
   ]
  },
  {
   "cell_type": "code",
   "execution_count": null,
   "id": "0fce4448-5722-4f83-86f3-0bacf7995d8a",
   "metadata": {},
   "outputs": [],
   "source": [
    "##Q5. What are continuous and categorical variables?\n",
    "#Ans: Continuous variables can take on any value within a given range (e.g., height, temperature), often represented by decimals.\n",
    "#Categorical variables represent distinct groups or categories (e.g., color, gender), with a limited number of possible values."
   ]
  },
  {
   "cell_type": "code",
   "execution_count": null,
   "id": "171e8227-5bf8-4efb-a120-4ac818d93875",
   "metadata": {},
   "outputs": [],
   "source": [
    "#Q6. How do we handle categorical variables in Machine Learning? What are the common techniques?\n",
    "#Ans: Categorical variables are converted into numerical representations for ML algorithms. Common techniques include one-hot encoding (creating binary columns for each category) and label encoding (assigning a unique integer to each category"
   ]
  },
  {
   "cell_type": "code",
   "execution_count": null,
   "id": "df090e27-bde5-4b02-92a7-6ad3a95a0445",
   "metadata": {},
   "outputs": [],
   "source": [
    "#Q7. What do you mean by training and testing a dataset?\n",
    "#Ans: Training a dataset involves feeding data to a machine learning model so it can learn patterns and adjust its internal parameters. Testing a dataset evaluates the trained model's performance on new, unseen data to assess its generalization ability."
   ]
  },
  {
   "cell_type": "code",
   "execution_count": null,
   "id": "21c7e29b-3057-4c6d-beb9-f03f3be4450b",
   "metadata": {},
   "outputs": [],
   "source": [
    "#Q8. What is sklearn.preprocessing?\n",
    "#Ans:It is a module in the scikit-learn library that provides functions for scaling, transforming, and encoding data before feeding it into machine learning models"
   ]
  },
  {
   "cell_type": "code",
   "execution_count": null,
   "id": "6a7fec28-7fcd-4951-94a4-c3f420f347a2",
   "metadata": {},
   "outputs": [],
   "source": [
    "#Q9. What is a Test set?\n",
    "#Ans: A test set is a separate portion of the data, not used during model training, that serves to evaluate the final performance and generalization ability of the trained machine learning model on unseen data"
   ]
  },
  {
   "cell_type": "code",
   "execution_count": null,
   "id": "b6fa8911-a50f-47ff-b3bc-75d430f19cf7",
   "metadata": {},
   "outputs": [],
   "source": [
    "#Q10. How do we split data for model fitting (training and testing) in Python?\n",
    "#Ans: In Python, we typically use the train_test_split function from sklearn.model_selection to randomly divide the dataset into separate training and testing sets."
   ]
  },
  {
   "cell_type": "code",
   "execution_count": null,
   "id": "e26346f7-8fd4-415f-8dc6-31d25cf2da82",
   "metadata": {},
   "outputs": [],
   "source": [
    "#Q. How do you approach a Machine Learning problem?\n",
    "#Ans:I approach an ML problem by first understanding the objective and data, then selecting and training a suitable model, and finally evaluating and refining its performance to meet the desired outcome"
   ]
  },
  {
   "cell_type": "code",
   "execution_count": null,
   "id": "75e6a666-1a55-433c-869a-a1772bd9b55d",
   "metadata": {},
   "outputs": [],
   "source": [
    "#Q11. Why do we have to perform EDA before fitting a model to the data?\n",
    "#Ans: Exploratory Data Analysis (EDA) is crucial to understand the data's characteristics, identify patterns, anomalies, and relationships between variables, which helps in making informed decisions about data preprocessing, feature engineering, and model selection"
   ]
  },
  {
   "cell_type": "code",
   "execution_count": null,
   "id": "0f327349-4c82-4687-aa51-caff27077c4f",
   "metadata": {},
   "outputs": [],
   "source": [
    "#Q12. What is correlation?\n",
    "#Ans: Correlation measures the statistical relationship between two or more variables, indicating how closely they change together. It quantifies both the strength and direction of this linear association."
   ]
  },
  {
   "cell_type": "code",
   "execution_count": null,
   "id": "7c289877-2e6f-4adc-9858-48f83f519915",
   "metadata": {},
   "outputs": [],
   "source": [
    "#Q13. What does negative correlation mean?\n",
    "#Ans: Negative correlation means that as one variable increases, the other variable tends to decrease, indicating an inverse relationship between them. The closer the correlation coefficient is to -1, the stronger this negative association"
   ]
  },
  {
   "cell_type": "code",
   "execution_count": null,
   "id": "7f5e44cf-5ebe-4f4d-a547-556b623b07b3",
   "metadata": {},
   "outputs": [],
   "source": [
    "#Q14. How can you find correlation between variables in Python?\n",
    "#Ans: In Python, you can find the correlation between variables using the .corr() method on a Pandas DataFrame, which calculates the pairwise correlation coefficients. Libraries like NumPy also offer functions like np.corrcoef() for calculating correlation matrices."
   ]
  },
  {
   "cell_type": "code",
   "execution_count": null,
   "id": "63e3fc9f-93d4-46b3-a653-8d251288ca86",
   "metadata": {},
   "outputs": [],
   "source": [
    "#Q15. What is causation? Explain difference between correlation and causation with an example.\n",
    "#Ans: Causation means that one event directly produces or causes another event. For example, ice cream sales and crime rates might be correlated (both increase in summer), but ice cream sales don't cause crime; a third factor (heat) likely influences both."
   ]
  },
  {
   "cell_type": "code",
   "execution_count": null,
   "id": "629e2692-f1e2-40ad-b176-202adf8e17f8",
   "metadata": {},
   "outputs": [],
   "source": [
    "#Q16. What is an Optimizer? What are different types of optimizers? Explain each with an example\n",
    "#Ans: An optimizer is an algorithm used to adjust the parameters of a machine learning model during training to minimize the loss function and improve performance\n",
    "# Different type of optimizer:-\n",
    "# Gradient Descent (GD), which iteratively moves parameters in the direction of the steepest decrease in loss (e.g., basic linear regression)\n",
    "#Stochastic Gradient Descent (SGD) updates parameters using only one random data point at a time, making it faster but noisier (e.g., training large neural networks)\n",
    "#Adam is an adaptive learning rate optimizer that combines the benefits of both momentum and RMSprop, often performing well in practice (e.g., training deep learning models efficiently)"
   ]
  },
  {
   "cell_type": "code",
   "execution_count": null,
   "id": "e87d4285-9037-40ce-b732-37c037e1fbb9",
   "metadata": {},
   "outputs": [],
   "source": [
    "#Q17. What is sklearn.linear_model ?\n",
    "#Ans: It is a module in scikit-learn that implements various linear models for regression and classification tasks. It includes algorithms like Linear Regression, Logistic Regression, Ridge Regression, and Lasso, which aim to find a linear relationship between the input features and the target variable."
   ]
  },
  {
   "cell_type": "code",
   "execution_count": null,
   "id": "fc100816-dd72-45fe-9899-f2ac32582344",
   "metadata": {},
   "outputs": [],
   "source": [
    "#Q18. What does model.fit() do? What arguments must be given?\n",
    "#Ans: model.fit() trains the machine learning model using the provided training data and target variables. The essential arguments that must be given are typically the training data (features, often denoted as X_train) and the corresponding target values (labels or dependent variable, often denoted as y_train)."
   ]
  },
  {
   "cell_type": "code",
   "execution_count": null,
   "id": "f9038373-8f75-4af4-bb9d-27ef15946034",
   "metadata": {},
   "outputs": [],
   "source": [
    "#Q19. What does model.fit() do? What arguments must be given?\n",
    "#Ans: model.fit() trains the machine learning model using the provided training data and target variables. The essential arguments that must be given are typically the training data (features, often denoted as X_train) and the corresponding target values (labels or dependent variable, often denoted as y_train)."
   ]
  },
  {
   "cell_type": "code",
   "execution_count": null,
   "id": "466e4a16-0422-4946-a679-4e031ba4e134",
   "metadata": {},
   "outputs": [],
   "source": [
    "#Q20. What are continuous and categorical variables?\n",
    "#Ans: Continuous variables can take on any numerical value within a range (e.g., temperature, height), often with decimal precision. \n",
    "#Categorical variables represent distinct groups or categories (e.g., color, city), having a limited number of possible values."
   ]
  },
  {
   "cell_type": "code",
   "execution_count": null,
   "id": "53d5e14a-33b7-48e7-9b9c-8162d2ec7fe0",
   "metadata": {},
   "outputs": [],
   "source": [
    "#Q21. What is feature scaling? How does it help in Machine Learning?\n",
    "#Ans: Feature scaling is a preprocessing technique that standardizes or normalizes the range of independent variables. It helps Machine Learning algorithms converge faster, prevents features with larger values."
   ]
  },
  {
   "cell_type": "code",
   "execution_count": null,
   "id": "040bccc5-bcf5-4c6c-88b2-26aad4d109dd",
   "metadata": {},
   "outputs": [],
   "source": [
    "#Q22. How do we perform scaling in Python?\n",
    "#Ans: In Python, we perform scaling using classes from sklearn.preprocessing like StandardScaler (for standardization) or MinMaxScaler (for normalization). We first fit the scaler on the training data and then transform both the training and testing data using the fitted scaler."
   ]
  },
  {
   "cell_type": "code",
   "execution_count": null,
   "id": "eddde93f-a7f1-4b75-9cc3-59c1e5724384",
   "metadata": {},
   "outputs": [],
   "source": [
    "#Q23. What is sklearn.preprocessing?\n",
    "#Ans:It is a module in the scikit-learn library that provides functions for scaling, transforming, and encoding data before feeding it into machine learning models:"
   ]
  },
  {
   "cell_type": "code",
   "execution_count": null,
   "id": "197119e0-9520-4f0f-9d08-246b0f4b99bd",
   "metadata": {},
   "outputs": [],
   "source": [
    "#Q24. How do we split data for model fitting (training and testing) in Python?\n",
    "#Ans: In Python, we typically use the train_test_split function from sklearn.model_selection to randomly divide the dataset into separate training and testing sets."
   ]
  },
  {
   "cell_type": "code",
   "execution_count": null,
   "id": "5613416a-d60b-4f68-98c4-5f5fccbedd92",
   "metadata": {},
   "outputs": [],
   "source": [
    "#Q25. Explain data encoding?\n",
    "#Ans: Data encoding is the process of converting categorical data (text or labels) into numerical representations that machine learning models can understand and process. This is essential because most ML algorithms work with numerical input."
   ]
  }
 ],
 "metadata": {
  "kernelspec": {
   "display_name": "Python 3 (ipykernel)",
   "language": "python",
   "name": "python3"
  },
  "language_info": {
   "codemirror_mode": {
    "name": "ipython",
    "version": 3
   },
   "file_extension": ".py",
   "mimetype": "text/x-python",
   "name": "python",
   "nbconvert_exporter": "python",
   "pygments_lexer": "ipython3",
   "version": "3.11.5"
  }
 },
 "nbformat": 4,
 "nbformat_minor": 5
}
